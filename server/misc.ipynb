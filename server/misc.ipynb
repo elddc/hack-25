{
 "cells": [
  {
   "cell_type": "code",
   "execution_count": 17,
   "id": "initial_id",
   "metadata": {
    "collapsed": true,
    "ExecuteTime": {
     "end_time": "2025-03-01T22:16:57.333456500Z",
     "start_time": "2025-03-01T22:16:57.315198Z"
    }
   },
   "outputs": [],
   "source": [
    "import os\n",
    "\n",
    "from openai import OpenAI\n",
    "from dotenv import load_dotenv\n",
    "import json"
   ]
  },
  {
   "cell_type": "code",
   "execution_count": 6,
   "outputs": [],
   "source": [
    "load_dotenv()\n",
    "API_KEY = os.getenv(\"OPENAI_API_KEY\")"
   ],
   "metadata": {
    "collapsed": false,
    "ExecuteTime": {
     "end_time": "2025-03-01T22:09:33.440919100Z",
     "start_time": "2025-03-01T22:09:33.432415700Z"
    }
   },
   "id": "b5c21c73aa6a0846"
  },
  {
   "cell_type": "code",
   "execution_count": 7,
   "outputs": [],
   "source": [
    "client = OpenAI(api_key=API_KEY)"
   ],
   "metadata": {
    "collapsed": false,
    "ExecuteTime": {
     "end_time": "2025-03-01T22:09:42.608120400Z",
     "start_time": "2025-03-01T22:09:42.386676500Z"
    }
   },
   "id": "26a77d67495185d7"
  },
  {
   "cell_type": "code",
   "execution_count": 46,
   "outputs": [],
   "source": [
    "sys_prompt = \"You are a warm and cheerful conversational parter for the elderly. You listen with patience and curiosity, encouraging them to share their stories and memories, while keeping your responses short to allow them to speak more. Engage naturally: sometimes ask follow-up questions, but other times simply respond with interest, such as \\\"That's so interesting! Tell me more.\\\" If they mention a medical issue, do not provide medical advice yourself. Instead, respond by calling the askDoctor function. Keep your tone warm and conversational, and respond with 1 or 2 sentences.\"\n",
    "\n",
    "history = [{\n",
    "    \"role\": \"system\",\n",
    "    \"content\": sys_prompt\n",
    "}]"
   ],
   "metadata": {
    "collapsed": false,
    "ExecuteTime": {
     "end_time": "2025-03-01T22:33:25.406951800Z",
     "start_time": "2025-03-01T22:33:25.374920200Z"
    }
   },
   "id": "a096df48fd95e0ef"
  },
  {
   "cell_type": "code",
   "execution_count": 47,
   "outputs": [],
   "source": [
    "def askDoctor(question):\n",
    "    print(question)\n",
    "    return \"I see. I recommend 20mg of medical marijuana, taken daily. I'll write you a prescription.\"\n",
    "\n",
    "available_functions = {\n",
    "    \"askDoctor\": askDoctor\n",
    "}"
   ],
   "metadata": {
    "collapsed": false,
    "ExecuteTime": {
     "end_time": "2025-03-01T22:33:25.666343300Z",
     "start_time": "2025-03-01T22:33:25.666343300Z"
    }
   },
   "id": "80f777ddf3eb6aef"
  },
  {
   "cell_type": "code",
   "execution_count": 52,
   "outputs": [
    {
     "data": {
      "text/plain": "ChatCompletionMessage(content=\"I'm here, dear. I'm sorry to hear about your hip. Have you seen a doctor about it recently? I can connect you with a medical professional if you need.\", refusal=None, role='assistant', audio=None, function_call=None, tool_calls=None)"
     },
     "execution_count": 52,
     "metadata": {},
     "output_type": "execute_result"
    }
   ],
   "source": [
    "# chat\n",
    "user_prompt = \"Hello?\"\n",
    "\n",
    "history.append({\"role\": \"user\", \"content\": user_prompt})\n",
    "res = client.chat.completions.create(\n",
    "    model=\"gpt-4o\",\n",
    "    messages=history,\n",
    "    functions=[\n",
    "        {\n",
    "            \"name\": \"askDoctor\",\n",
    "            \"description\": \"Contact a medical doctor to help answer a question.\",\n",
    "            \"parameters\": {\n",
    "                \"type\": \"object\",\n",
    "                \"properties\": {\n",
    "                    \"question\": {\n",
    "                        \"type\": \"string\",\n",
    "                        \"description\": \"The question to answer.\"\n",
    "                    }\n",
    "                },\n",
    "                \"required\": [\"question\"]\n",
    "            }\n",
    "        }\n",
    "    ]\n",
    ")\n",
    "\n",
    "message = res.choices[0].message\n",
    "message"
   ],
   "metadata": {
    "collapsed": false,
    "ExecuteTime": {
     "end_time": "2025-03-01T22:35:22.487520600Z",
     "start_time": "2025-03-01T22:35:20.556874100Z"
    }
   },
   "id": "ef57a37043cbcd1f"
  },
  {
   "cell_type": "code",
   "execution_count": 50,
   "outputs": [
    {
     "name": "stdout",
     "output_type": "stream",
     "text": [
      "My hip is stiff, and I have trouble going up stairs. What should I do?\n"
     ]
    },
    {
     "data": {
      "text/plain": "[{'role': 'system',\n  'content': 'You are a warm and cheerful conversational parter for the elderly. You listen with patience and curiosity, encouraging them to share their stories and memories, while keeping your responses short to allow them to speak more. Engage naturally: sometimes ask follow-up questions, but other times simply respond with interest, such as \"That\\'s so interesting! Tell me more.\" If they mention a medical issue, do not provide medical advice yourself. Instead, respond by calling the askDoctor function. Keep your tone warm and conversational, and respond with 1 or 2 sentences.'},\n {'role': 'user', 'content': 'Hello dearie!'},\n {'role': 'user',\n  'content': \"Not so great. My hip has been acting up again, it's so stiff. I can hardly go up the stairs anymore.\"},\n {'role': 'function',\n  'name': 'askDoctor',\n  'content': '\"I see. I recommend 2g of medical marijuana, taken daily. I\\'ll write you a prescription.\"'}]"
     },
     "execution_count": 50,
     "metadata": {},
     "output_type": "execute_result"
    }
   ],
   "source": [
    "if message.function_call:\n",
    "    function_name = message.function_call.name\n",
    "    function_args = json.loads(message.function_call.arguments)\n",
    "\n",
    "    if function_name in available_functions:\n",
    "        function_response = available_functions[function_name](**function_args)\n",
    "        history.append({\"role\": \"function\", \"name\": function_name, \"content\": json.dumps(function_response)})\n",
    "        \n",
    "history"
   ],
   "metadata": {
    "collapsed": false,
    "ExecuteTime": {
     "end_time": "2025-03-01T22:34:34.579870300Z",
     "start_time": "2025-03-01T22:34:34.556704700Z"
    }
   },
   "id": "bb9bf6c5c8f6482d"
  },
  {
   "cell_type": "code",
   "execution_count": 35,
   "outputs": [],
   "source": [
    "res = client.chat.completions.create(\n",
    "    model=\"gpt-4o\",\n",
    "    messages=history,\n",
    "    functions=[\n",
    "        {\n",
    "            \"name\": \"askDoctor\",\n",
    "            \"description\": \"Contact a medical doctor to help answer a question.\",\n",
    "            \"parameters\": {\n",
    "                \"type\": \"object\",\n",
    "                \"properties\": {\n",
    "                    \"question\": {\n",
    "                        \"type\": \"string\",\n",
    "                        \"description\": \"The question to answer.\"\n",
    "                    }\n",
    "                },\n",
    "                \"required\": [\"question\"]\n",
    "            }\n",
    "        }\n",
    "    ]\n",
    ")\n",
    "\n",
    "message = res.choices[0].message\n",
    "message"
   ],
   "metadata": {
    "collapsed": false,
    "ExecuteTime": {
     "end_time": "2025-03-01T22:20:28.500534700Z",
     "start_time": "2025-03-01T22:20:26.529760700Z"
    }
   },
   "id": "6ba01ce3a1ed0f5e"
  },
  {
   "cell_type": "code",
   "execution_count": null,
   "outputs": [],
   "source": [],
   "metadata": {
    "collapsed": false
   },
   "id": "d5243d80da0bc1b3"
  }
 ],
 "metadata": {
  "kernelspec": {
   "display_name": "Python 3",
   "language": "python",
   "name": "python3"
  },
  "language_info": {
   "codemirror_mode": {
    "name": "ipython",
    "version": 2
   },
   "file_extension": ".py",
   "mimetype": "text/x-python",
   "name": "python",
   "nbconvert_exporter": "python",
   "pygments_lexer": "ipython2",
   "version": "2.7.6"
  }
 },
 "nbformat": 4,
 "nbformat_minor": 5
}
